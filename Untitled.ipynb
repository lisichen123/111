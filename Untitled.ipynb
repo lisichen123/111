{
 "cells": [
  {
   "cell_type": "code",
   "execution_count": null,
   "metadata": {},
   "outputs": [],
   "source": [
    "import numpy as np\n",
    "import matplotlib.pyplot as plt\n",
    "import pandas as pd\n",
    "\n",
    "data1 = pd.read_csv(r'C:\\Users\\孙七天\\Desktop\\对比结果\\Drop-Wave Function\\fitness_ga.csv',header=None).values[0:200,-1]\n",
    "data2 = pd.read_csv(r'C:\\Users\\孙七天\\Desktop\\对比结果\\Drop-Wave Function\\ture_gq_fitness.csv',header=None).values[0:200,-1]\n",
    "data3 = pd.read_csv(r'C:\\Users\\孙七天\\Desktop\\对比结果\\Drop-Wave Function\\IQGA_fitness.csv',header=None).values[0:200,-1]\n",
    "\n",
    "plt.style.use(\"seaborn\")\n",
    "plt.plot(data1,label='Classical genetic algorithm')\n",
    "plt.plot(data2,label='Quantum genetic algorithm')\n",
    "plt.plot(data3,label='Heuristic quantum genetic algorithm')\n",
    "plt.legend()\n",
    "plt.title('Comparison of Drop-Wave Function')\n",
    "plt.xlabel('Iteration')\n",
    "plt.ylabel('Fitness')\n",
    "plt.show()\n"
   ]
  }
 ],
 "metadata": {
  "kernelspec": {
   "display_name": "Python 3",
   "language": "python",
   "name": "python3"
  },
  "language_info": {
   "codemirror_mode": {
    "name": "ipython",
    "version": 3
   },
   "file_extension": ".py",
   "mimetype": "text/x-python",
   "name": "python",
   "nbconvert_exporter": "python",
   "pygments_lexer": "ipython3",
   "version": "3.7.6"
  }
 },
 "nbformat": 4,
 "nbformat_minor": 4
}
